{
 "cells": [
  {
   "cell_type": "code",
   "execution_count": 20,
   "metadata": {},
   "outputs": [
    {
     "name": "stdout",
     "output_type": "stream",
     "text": [
      "sample_submission.csv\n",
      "test.csv\n",
      "train.csv\n",
      "\n"
     ]
    }
   ],
   "source": [
    "import numpy as np\n",
    "import pandas as pd\n",
    "import tensorflow as tf\n",
    "import keras\n",
    "\n",
    "import math\n",
    "import matplotlib.pyplot as plt\n",
    "#%matplotlib inline\n",
    "# Input data files are available in the \"./data/\" directory.\n",
    "# For example, running this (by clicking run or pressing Shift+Enter) will list the files in the input directory\n",
    "\n",
    "from subprocess import check_output\n",
    "print(check_output([\"ls\", \"./data\"]).decode(\"utf8\"))"
   ]
  },
  {
   "cell_type": "code",
   "execution_count": 21,
   "metadata": {
    "collapsed": true
   },
   "outputs": [],
   "source": [
    "num_training = 41000\n",
    "num_val = 1000\n",
    "num_test = 28000\n",
    "def get_MNIST_data():\n",
    "    #read the data\n",
    "    train_data = pd.read_csv('./data/train.csv').as_matrix()\n",
    "    test_data = pd.read_csv('./data/test.csv').as_matrix()\n",
    "    print(train_data.shape)\n",
    "    print(test_data.shape)\n",
    "    #shuffle the train_data before spliting for better generalization\n",
    "    np.random.shuffle(train_data)\n",
    "    # Split 1000 examples for validation\n",
    "    X_train = train_data[1000:,1:]\n",
    "    y_train = train_data[1000:,:1]\n",
    "    X_val = train_data[:1000,1:]\n",
    "    y_val= train_data[:1000,:1]\n",
    "    X_test = test_data\n",
    "    \n",
    "    #Normalize the data:subtract the mean image \n",
    "    #Dividing the data by standard deviation is not necessary \n",
    "    #because all features are pixel values ranging between 0 to 255\n",
    "    mean = np.mean(X_train, axis=0,dtype=np.int64)\n",
    "    X_train -= mean\n",
    "    X_val -= mean\n",
    "    X_test -= mean\n",
    "    return X_train,y_train,X_val,y_val,X_test,mean"
   ]
  },
  {
   "cell_type": "code",
   "execution_count": 22,
   "metadata": {},
   "outputs": [
    {
     "name": "stdout",
     "output_type": "stream",
     "text": [
      "(42000, 785)\n",
      "(28000, 784)\n",
      "('Range:', 255)\n",
      "('Train data shape: ', (41000, 28, 28, 1))\n",
      "('Train labels shape: ', (41000,))\n",
      "('Validation data shape: ', (1000, 28, 28, 1))\n",
      "('Validation labels shape: ', (1000,))\n",
      "('Test data shape: ', (28000, 28, 28, 1))\n"
     ]
    }
   ],
   "source": [
    "X_train,y_train,X_val,y_val,X_test,mean = get_MNIST_data()\n",
    "#Print out the range of values\n",
    "range = np.ptp(np.ptp(X_train,axis=0),axis=0)\n",
    "print('Range:', range)\n",
    "\n",
    "#Reshape the data from 784 to 28x28 since it represents the image width and height\n",
    "X_train = np.reshape(X_train,(-1,28,28,1))\n",
    "X_val = np.reshape(X_val,(-1,28,28,1))\n",
    "X_test = np.reshape(X_test,(-1,28,28,1))\n",
    "y_train = np.reshape(y_train,-1)\n",
    "y_val = np.reshape(y_val,-1)\n",
    "print('Train data shape: ', X_train.shape)\n",
    "print('Train labels shape: ', y_train.shape)\n",
    "print('Validation data shape: ', X_val.shape)\n",
    "print('Validation labels shape: ', y_val.shape)\n",
    "print('Test data shape: ', X_test.shape)"
   ]
  },
  {
   "cell_type": "markdown",
   "metadata": {},
   "source": [
    "## display the image"
   ]
  },
  {
   "cell_type": "code",
   "execution_count": 23,
   "metadata": {},
   "outputs": [
    {
     "data": {
      "image/png": "[encoded data removed]",
      "text/plain": [
       "<matplotlib.figure.Figure at 0x7f2348799090>"
      ]
     },
     "metadata": {},
     "output_type": "display_data"
    },
    {
     "name": "stdout",
     "output_type": "stream",
     "text": [
      "(784,)\n"
     ]
    }
   ],
   "source": [
    "\n",
    "image_width = 28\n",
    "image_height = 28\n",
    "def image_display(image):\n",
    "    image = image.reshape(image_width,image_height)\n",
    "    plt.imshow(image)\n",
    "    plt.show() # add\n",
    "    plt.axis('off')\n",
    "#Display the image    \n",
    "image_display(mean)\n",
    "\n",
    "print(mean.shape)\n"
   ]
  },
  {
   "cell_type": "markdown",
   "metadata": {},
   "source": [
    "\n",
    "\n",
    "## MNIST_Model:\n",
    "\n",
    "Network architecture:Some of the good architectures for training include the following:\n",
    "\n",
    "[conv-relu-pool]xN -> [affine]xM -> [softmax or SVM]\n",
    "\n",
    "[conv-relu-conv-relu-pool]xN -> [affine]xM -> [softmax or SVM]\n",
    "\n",
    "[batchnorm-relu-conv]xN -> [affine]xM -> [softmax or SVM]\n",
    "\n",
    "The below architecture can be described as: [conv-relu-batchnorm-pool]x2 -> [affine-relu-batchnorm]->[affine] -> [softmax]\n"
   ]
  },
  {
   "cell_type": "code",
   "execution_count": 25,
   "metadata": {
    "collapsed": true
   },
   "outputs": [],
   "source": [
    "# clear old variables\n",
    "tf.reset_default_graph()\n",
    "\n",
    "# define our input (e.g. the data that changes every batch)\n",
    "# The first dim is None, and gets sets automatically based on batch size fed in\n",
    "X = tf.placeholder(tf.float32, [None, 28, 28, 1 ])\n",
    "y = tf.placeholder(tf.int64, [None])\n",
    "is_training = tf.placeholder(tf.bool)\n",
    "\n",
    "#Define Model\n",
    "def MNISTmodel(X,y,is_training):\n",
    "    Wconv1=tf.get_variable(\"Wconv1\",shape=[5,5,1,64])\n",
    "    bconv1=tf.get_variable(\"bconv1\",shape=[64])\n",
    "    Wconv2=tf.get_variable(\"Wconv2\",shape=[5,5,64,128])\n",
    "    bconv2=tf.get_variable(\"bconv2\",shape=[128])\n",
    "    W1=tf.get_variable(\"W1\",shape=[7*7*128,1024])\n",
    "    b1=tf.get_variable(\"b1\",shape=[1024])\n",
    "    W2=tf.get_variable(\"W2\",shape=[1024,10])\n",
    "    b2=tf.get_variable(\"b2\",shape=[10])\n",
    "    hconv1=tf.nn.relu(tf.nn.conv2d(X,Wconv1,strides=[1,1,1,1],padding='SAME')+bconv1)\n",
    "    hbn1=tf.contrib.layers.batch_norm(hconv1,center=True, scale=True,is_training=is_training,scope='hbn1')\n",
    "    hpool1=tf.nn.max_pool(hbn1,ksize=[1,2,2,1],strides=[1,2,2,1],padding='SAME')\n",
    "    hconv2=tf.nn.relu(tf.nn.conv2d(hpool1,Wconv2,strides=[1,1,1,1],padding='SAME')+bconv2)\n",
    "    hbn2=tf.contrib.layers.batch_norm(hconv2,center=True, scale=True,is_training=is_training,scope='hbn2')\n",
    "    hpool2=tf.nn.max_pool(hbn2,ksize=[1,2,2,1],strides=[1,2,2,1],padding='SAME')\n",
    "    hpool2_flat=tf.reshape(hpool2,(-1,7*7*128))\n",
    "    hfc1=tf.nn.relu(tf.matmul(hpool2_flat,W1)+b1)\n",
    "    hbn3=tf.contrib.layers.batch_norm(hfc1,center=True, scale=True,is_training=is_training,scope='hbn3')\n",
    "    y_out=tf.matmul(hbn3,W2)+b2\n",
    "    variable_list = [Wconv1,bconv1,Wconv2,bconv2,W1,b1,W2,b2]\n",
    "    return(y_out,variable_list)\n",
    "y_out,variable_list = MNISTmodel(X,y,is_training)"
   ]
  },
  {
   "cell_type": "code",
   "execution_count": 26,
   "metadata": {
    "collapsed": true
   },
   "outputs": [],
   "source": [
    "#mean_loss: a TensorFlow variable (scalar) with numerical loss\n",
    "#optimizer: a TensorFlow optimizer\n",
    "mean_loss = tf.reduce_mean(tf.nn.softmax_cross_entropy_with_logits(labels=tf.one_hot(y,10),logits=y_out))\n",
    "optimizer = tf.train.AdamOptimizer(1e-3)\n",
    "\n",
    "#batch normalization in tensorflow requires this extra dependency\n",
    "extra_update_ops = tf.get_collection(tf.GraphKeys.UPDATE_OPS)\n",
    "with tf.control_dependencies(extra_update_ops):\n",
    "    opt_op = optimizer.minimize(mean_loss)\n",
    "# Create an ExponentialMovingAverage object\n",
    "ema = tf.train.ExponentialMovingAverage(decay=0.9999)\n",
    "\n",
    "# Create the shadow variables, and add ops to maintain moving averages\n",
    "# of var0 and var1.\n",
    "maintain_averages_op = ema.apply(variable_list)\n",
    "\n",
    "# Create an op that will update the moving averages after each training\n",
    "# step.  This is what we will use in place of the usual training op.\n",
    "with tf.control_dependencies([opt_op]):\n",
    "    train_step = tf.group(maintain_averages_op)\n"
   ]
  },
  {
   "cell_type": "code",
   "execution_count": 33,
   "metadata": {
    "collapsed": true
   },
   "outputs": [],
   "source": [
    "def run_model(session, predict, loss_val, Xd, yd,\n",
    "              epochs=1, batch_size=64, print_every=100,\n",
    "              training=None, plot_losses=False):\n",
    "    # have tensorflow compute accuracy\n",
    "    correct_prediction = tf.equal(tf.argmax(predict,1), y)\n",
    "    accuracy = tf.reduce_mean(tf.cast(correct_prediction, tf.float32))\n",
    "    \n",
    "    # shuffle indicies\n",
    "    train_indicies = np.arange(Xd.shape[0])\n",
    "\n",
    "    training_now = training is not None\n",
    "    \n",
    "    # setting up variables we want to compute (and optimizing)\n",
    "    # if we have a training function, add that to things we compute\n",
    "    variables = [mean_loss,correct_prediction,accuracy]\n",
    "    if training_now:\n",
    "        variables[-1] = training\n",
    "    \n",
    "    # counter \n",
    "    iter_cnt = 0\n",
    "    for e in np.arange(epochs):\n",
    "        # keep track of losses and accuracy\n",
    "        correct = 0\n",
    "        losses = []\n",
    "        # make sure we iterate over the dataset once\n",
    "        for i in np.arange(int(math.ceil(Xd.shape[0]/batch_size))):\n",
    "            # generate indicies for the batch\n",
    "            start_idx = (i*batch_size)%Xd.shape[0]\n",
    "            idx = train_indicies[start_idx:start_idx+batch_size]\n",
    "            \n",
    "            # create a feed dictionary for this batch\n",
    "            feed_dict = {X: Xd[idx,:],\n",
    "                         y: yd[idx],\n",
    "                         is_training: training_now }\n",
    "            # get batch size\n",
    "            actual_batch_size = yd[idx].shape[0]\n",
    "            \n",
    "            # have tensorflow compute loss and correct predictions\n",
    "            # and (if given) perform a training step\n",
    "            loss, corr, _ = session.run(variables,feed_dict=feed_dict)\n",
    "            \n",
    "            # aggregate performance stats\n",
    "            losses.append(loss*actual_batch_size)\n",
    "            correct += np.sum(corr)\n",
    "            \n",
    "            # print every now and then\n",
    "            if training_now and (iter_cnt % print_every) == 0:\n",
    "                print(\"Iteration {0}: with minibatch training loss = {1:.3g} and accuracy of {2:.2g}\"\\\n",
    "                      .format(iter_cnt,loss,np.sum(corr)/actual_batch_size))\n",
    "            iter_cnt += 1\n",
    "        total_correct = correct/Xd.shape[0]\n",
    "        total_loss = np.sum(losses)/Xd.shape[0]\n",
    "        print(\"Epoch {2}, Overall loss = {0:.3g} and accuracy of {1:.3g}\"\\\n",
    "              .format(total_loss,total_correct,e+1))\n",
    "        if plot_losses:\n",
    "            plt.plot(losses)\n",
    "            plt.grid(True)\n",
    "            plt.title('Epoch {} Loss'.format(e+1))\n",
    "            plt.xlabel('minibatch number')\n",
    "            plt.ylabel('minibatch loss')\n",
    "            plt.show()\n",
    "    return total_loss,total_correct"
   ]
  },
  {
   "cell_type": "code",
   "execution_count": 34,
   "metadata": {
    "collapsed": true
   },
   "outputs": [],
   "source": [
    "\n",
    "#Prediction\n",
    "prediction = tf.argmax(y_out,1)\n"
   ]
  },
  {
   "cell_type": "code",
   "execution_count": 35,
   "metadata": {
    "collapsed": true
   },
   "outputs": [],
   "source": [
    "\n",
    "#Lets strat a session\n",
    "sess = tf.Session()\n",
    "sess.run(tf.global_variables_initializer())\n"
   ]
  },
  {
   "cell_type": "code",
   "execution_count": 36,
   "metadata": {
    "scrolled": true
   },
   "outputs": [
    {
     "name": "stdout",
     "output_type": "stream",
     "text": [
      "Training\n",
      "name: \"group_deps\"\n",
      "op: \"NoOp\"\n",
      "input: \"^Adam\"\n",
      "input: \"^ExponentialMovingAverage\"\n",
      "\n",
      "Iteration 0: with minibatch training loss = 3.06 and accuracy of 0\n",
      "Iteration 100: with minibatch training loss = 0.165 and accuracy of 0\n",
      "Iteration 200: with minibatch training loss = 0.113 and accuracy of 0\n",
      "Iteration 300: with minibatch training loss = 0.0534 and accuracy of 0\n",
      "Iteration 400: with minibatch training loss = 0.0279 and accuracy of 0\n",
      "Epoch 1, Overall loss = 0.116 and accuracy of 0\n"
     ]
    },
    {
     "data": {
      "image/png": "[encoded data removed]",
      "text/plain": [
       "<matplotlib.figure.Figure at 0x7f23487302d0>"
      ]
     },
     "metadata": {},
     "output_type": "display_data"
    },
    {
     "name": "stdout",
     "output_type": "stream",
     "text": [
      "Validation\n",
      "Epoch 1, Overall loss = 1.78 and accuracy of 0\n"
     ]
    },
    {
     "data": {
      "text/plain": [
       "(1.7792082138061522, 0)"
      ]
     },
     "execution_count": 36,
     "metadata": {},
     "output_type": "execute_result"
    }
   ],
   "source": [
    "print('Training')\n",
    "print(train_step)\n",
    "run_model(sess,y_out,mean_loss,X_train,y_train,1,100,100,train_step,True)\n",
    "print('Validation')\n",
    "run_model(sess,y_out,mean_loss,X_val,y_val,1,64)"
   ]
  },
  {
   "cell_type": "code",
   "execution_count": 30,
   "metadata": {
    "collapsed": true
   },
   "outputs": [],
   "source": [
    "\n",
    "\n",
    "predicted_labels = np.zeros(X_test.shape[0])\n",
    "for i in np.arange(0,X_test.shape[0]/50,dtype=np.int64):\n",
    "    start = i*50\n",
    "    end = (i+1)*50\n",
    "    predicted_labels[start:end] = sess.run(prediction,feed_dict={X: X_test[start:end,:],y: predicted_labels[start:end],is_training: False})\n",
    "\n"
   ]
  },
  {
   "cell_type": "code",
   "execution_count": 31,
   "metadata": {},
   "outputs": [
    {
     "data": {
      "image/png": "[encoded data removed]",
      "text/plain": [
       "<matplotlib.figure.Figure at 0x7f235d88c310>"
      ]
     },
     "metadata": {},
     "output_type": "display_data"
    },
    {
     "name": "stdout",
     "output_type": "stream",
     "text": [
      "('predicted_labels:', 0.0)\n"
     ]
    }
   ],
   "source": [
    "#Lets check the output\n",
    "image_display(X_test[1])\n",
    "print('predicted_labels:',predicted_labels[1])"
   ]
  },
  {
   "cell_type": "code",
   "execution_count": 32,
   "metadata": {
    "collapsed": true
   },
   "outputs": [],
   "source": [
    "\n",
    "\n",
    "# save results\n",
    "np.savetxt('submission_method3.csv', \n",
    "           np.c_[np.arange(1,len(X_test)+1),predicted_labels], \n",
    "           delimiter=',', \n",
    "           header = 'ImageId,Label', \n",
    "           comments = '', \n",
    "           fmt='%d')\n",
    "\n"
   ]
  },
  {
   "cell_type": "code",
   "execution_count": 37,
   "metadata": {
    "collapsed": true
   },
   "outputs": [],
   "source": [
    "sess.close()"
   ]
  },
  {
   "cell_type": "code",
   "execution_count": null,
   "metadata": {
    "collapsed": true
   },
   "outputs": [],
   "source": []
  }
 ],
 "metadata": {
  "kernelspec": {
   "display_name": "Python 2",
   "language": "python",
   "name": "python2"
  },
  "language_info": {
   "codemirror_mode": {
    "name": "ipython",
    "version": 2
   },
   "file_extension": ".py",
   "mimetype": "text/x-python",
   "name": "python",
   "nbconvert_exporter": "python",
   "pygments_lexer": "ipython2",
   "version": "2.7.13"
  }
 },
 "nbformat": 4,
 "nbformat_minor": 2
}
